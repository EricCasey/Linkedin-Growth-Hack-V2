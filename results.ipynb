{
 "metadata": {
  "language_info": {
   "codemirror_mode": {
    "name": "ipython",
    "version": 3
   },
   "file_extension": ".py",
   "mimetype": "text/x-python",
   "name": "python",
   "nbconvert_exporter": "python",
   "pygments_lexer": "ipython3",
   "version": "3.7.3-final"
  },
  "orig_nbformat": 2,
  "kernelspec": {
   "name": "python_defaultSpec_1600619261901",
   "display_name": "Python 3.7.3 64-bit"
  }
 },
 "nbformat": 4,
 "nbformat_minor": 2,
 "cells": [
  {
   "cell_type": "code",
   "execution_count": null,
   "metadata": {},
   "outputs": [],
   "source": []
  },
  {
   "cell_type": "code",
   "execution_count": 1,
   "metadata": {
    "tags": []
   },
   "outputs": [
    {
     "output_type": "stream",
     "name": "stdout",
     "text": "test\n"
    }
   ],
   "source": [
    "print(\"test\")\n",
    "# This is just easier to do manually.\n",
    "profile_views = {\n",
    "    'Jun22' : 0,\n",
    "    'Jun29' : 0,\n",
    "    'Jul6'  : 6,\n",
    "    'Jul13' : 4,\n",
    "    'Jul20' : 3,\n",
    "    'Jul27' : 6,\n",
    "    'Aug3'  : 1,\n",
    "    'Aug10' : 4,\n",
    "    'Aug17' : 9,\n",
    "    'Aug24' : 0,\n",
    "    'Aug31' : 7,\n",
    "    'Sep7'  : 6,\n",
    "    'Sep14' : 6,\n",
    "    'Sep21' : 1\n",
    "}\n",
    "\n",
    "connections = {\n",
    "    'Jun22' : 1123,\n",
    "    'Jun29' : 1123,\n",
    "    'Jul6'  : 1123,\n",
    "    'Jul13' : 1123,\n",
    "    'Jul20' : 1123,\n",
    "    'Jul27' : 1123,\n",
    "    'Aug3'  : 1123,\n",
    "    'Aug10' : 1123,\n",
    "    'Aug17' : 1123,\n",
    "    'Aug24' : 1123,\n",
    "    'Aug31' : 1123,\n",
    "    'Sep7'  : 1123,\n",
    "    'Sep14' : 1123,\n",
    "    'Sep21' : 1123\n",
    "}"
   ]
  },
  {
   "cell_type": "code",
   "execution_count": null,
   "metadata": {},
   "outputs": [],
   "source": []
  }
 ]
}